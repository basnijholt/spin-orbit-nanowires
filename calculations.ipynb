{
 "cells": [
  {
   "cell_type": "code",
   "execution_count": null,
   "metadata": {},
   "outputs": [],
   "source": [
    "import warnings\n",
    "\n",
    "warnings.filterwarnings(\"ignore\")"
   ]
  },
  {
   "cell_type": "markdown",
   "metadata": {},
   "source": [
    "# Induced gap and magnetic field"
   ]
  },
  {
   "cell_type": "code",
   "execution_count": null,
   "metadata": {},
   "outputs": [],
   "source": [
    "# 1. Standard library imports\n",
    "import asyncio\n",
    "from copy import copy\n",
    "from functools import partial\n",
    "from operator import itemgetter\n",
    "from pathlib import Path\n",
    "\n",
    "# 2. External package imports\n",
    "import adaptive\n",
    "import holoviews as hv\n",
    "import kwant\n",
    "import matplotlib.pyplot as plt\n",
    "import numpy as np\n",
    "\n",
    "# 3. Internal imports\n",
    "import common\n",
    "import funcs\n",
    "from common import loss\n",
    "\n",
    "# hv.notebook_extension('matplotlib')\n",
    "print(kwant.__version__)\n",
    "\n",
    "adaptive.notebook_extension()"
   ]
  },
  {
   "cell_type": "markdown",
   "metadata": {},
   "source": [
    "# Connect to ipyparallel"
   ]
  },
  {
   "cell_type": "code",
   "execution_count": null,
   "metadata": {},
   "outputs": [],
   "source": [
    "# import hpc05\n",
    "# hpc05.connect.kill_ipcluster()\n",
    "# client, dview, lview = hpc05.start_and_connect(99, profile='pbs2',\n",
    "#                                                folder='~/Work/induced_gap_B_field/',\n",
    "#                                                timeout=300)"
   ]
  },
  {
   "cell_type": "code",
   "execution_count": null,
   "metadata": {},
   "outputs": [],
   "source": [
    "import hpc05\n",
    "\n",
    "hpc05.kill_remote_ipcluster()\n",
    "client, dview, lview = hpc05.start_remote_and_connect(\n",
    "    300, profile=\"pbs\", folder=\"~/Work/induced_gap_B_field/\", timeout=300\n",
    ")\n",
    "# client, dview, lview = hpc05.connect_ipcluster(300, profile='pbs', folder='~/Work/induced_gap_B_field/')"
   ]
  },
  {
   "cell_type": "markdown",
   "metadata": {},
   "source": [
    "# Usage"
   ]
  },
  {
   "cell_type": "code",
   "execution_count": null,
   "metadata": {},
   "outputs": [],
   "source": [
    "syst_pars = dict(\n",
    "    a=10,\n",
    "    angle=0,\n",
    "    onsite_disorder=False,\n",
    "    L=200,\n",
    "    coverage_angle=135,\n",
    "    r1=35,\n",
    "    r2=70,\n",
    "    shape=\"circle\",\n",
    "    with_leads=True,\n",
    "    with_shell=True,\n",
    "    A_correction=True,\n",
    ")\n",
    "\n",
    "params = dict(\n",
    "    alpha=20,\n",
    "    B_x=0.5,\n",
    "    B_y=0,\n",
    "    B_z=0,\n",
    "    Delta=60,\n",
    "    g=50,\n",
    "    orbital=True,\n",
    "    mu_sc=100,\n",
    "    mu=7,\n",
    "    mu_lead=7,\n",
    "    c_tunnel=3 / 4,\n",
    "    V=lambda x, y, z: 0,\n",
    "    **funcs.constants.__dict__\n",
    ")\n",
    "\n",
    "# syst_pars['L_barrier'] = 100\n",
    "# params['V_barrier_mu'] = syst_pars['L_barrier']/2\n",
    "# params['V_barrier_sigma'] = syst_pars['L_barrier']/10\n",
    "# params['V_barrier_height'] = 30\n",
    "# params['V_barrier'] = funcs.V_barrier\n",
    "\n",
    "syst_pars[\"L_barrier\"] = 10\n",
    "\n",
    "syst = funcs.make_3d_wire(**syst_pars)\n",
    "\n",
    "kwant.plot(syst)"
   ]
  },
  {
   "cell_type": "code",
   "execution_count": null,
   "metadata": {},
   "outputs": [],
   "source": [
    "lead = syst.leads[0]\n",
    "funcs.plot_wfs_in_cross_section(lead, params, 0)"
   ]
  },
  {
   "cell_type": "code",
   "execution_count": null,
   "metadata": {},
   "outputs": [],
   "source": [
    "%%opts Image [colorbar=True] (cmap='RdBu_r')\n",
    "\n",
    "x = 20  # Take cross-section at\n",
    "mu = 15  # meV\n",
    "xy = funcs.get_cross_section(syst, x, 0)\n",
    "ims = {}\n",
    "for grad in range(-10, 6, 2):\n",
    "    V = lambda x, y, z: grad * z / syst_pars[\"r1\"]\n",
    "\n",
    "    potential = np.array([mu - V(*s.pos) for s in syst.sites if s.pos[0] == x])\n",
    "    mus = np.rot90(kwant.plotter.mask_interpolate(xy, potential, oversampling=1)[0])\n",
    "    ims[grad] = hv.Image(mus, label=\"Chemical potential\")\n",
    "hv.HoloMap(ims)"
   ]
  },
  {
   "cell_type": "code",
   "execution_count": null,
   "metadata": {},
   "outputs": [],
   "source": [
    "# %%opts Path [aspect='square']\n",
    "params = dict(\n",
    "    c_tunnel=3 / 4,\n",
    "    B_x=0.0,\n",
    "    B_y=0,\n",
    "    B_z=0,\n",
    "    V_barrier=40,\n",
    "    g=50,\n",
    "    mu_sc=100,\n",
    "    alpha=20,\n",
    "    orbital=False,\n",
    "    V=lambda x, y, z: 10 * z / 35,\n",
    "    Delta=60,\n",
    "    **funcs.constants.__dict__\n",
    ")\n",
    "\n",
    "lead_pars = dict(\n",
    "    a=10,\n",
    "    angle=0,\n",
    "    coverage_angle=135,\n",
    "    r1=35,\n",
    "    r2=70,\n",
    "    shape=\"circle\",\n",
    "    with_shell=True,\n",
    "    A_correction=True,\n",
    "    rotate_spin_orbit=False,\n",
    ")\n",
    "\n",
    "lead = funcs.make_lead(**lead_pars).finalized()\n",
    "params[\"mu_lead\"] = params[\"mu_sc\"] = 0\n",
    "params[\"B_y\"] = 0\n",
    "ks = np.linspace(-1, 1, 101)\n",
    "Es = funcs.bands(lead, params, ks)\n",
    "p1 = hv.Path((ks, Es))[:, -100:100]\n",
    "\n",
    "p1[:, -25:25]  # + p1[:, -2:2]"
   ]
  },
  {
   "cell_type": "code",
   "execution_count": null,
   "metadata": {},
   "outputs": [],
   "source": [
    "funcs.find_gap(lead, params)"
   ]
  },
  {
   "cell_type": "code",
   "execution_count": null,
   "metadata": {},
   "outputs": [],
   "source": [
    "%%time\n",
    "gap = funcs.find_gap(lead, params)\n",
    "print(f\"The bandgap is {gap} meV\")"
   ]
  },
  {
   "cell_type": "code",
   "execution_count": null,
   "metadata": {},
   "outputs": [],
   "source": [
    "params = dict(\n",
    "    alpha=20,\n",
    "    B_x=0,\n",
    "    B_y=0,\n",
    "    B_z=0,\n",
    "    Delta=60,\n",
    "    g=50,\n",
    "    orbital=True,\n",
    "    mu=15,\n",
    "    mu_lead=15,\n",
    "    mu_sc=100,\n",
    "    c_tunnel=3 / 4,\n",
    "    V=lambda x, y, z: 0,\n",
    "    V_barrier=50,\n",
    "    **funcs.constants.__dict__\n",
    ")\n",
    "\n",
    "S = kwant.smatrix(syst, params=params)"
   ]
  },
  {
   "cell_type": "code",
   "execution_count": null,
   "metadata": {},
   "outputs": [],
   "source": [
    "funcs.andreev_conductance(syst, params, 0)"
   ]
  },
  {
   "cell_type": "markdown",
   "metadata": {},
   "source": [
    "# Tuning the gap"
   ]
  },
  {
   "cell_type": "code",
   "execution_count": null,
   "metadata": {},
   "outputs": [],
   "source": [
    "params = dict(\n",
    "    c_tunnel=3 / 4,\n",
    "    B_x=0,\n",
    "    B_y=0,\n",
    "    B_z=0,\n",
    "    g=50,\n",
    "    alpha=20,\n",
    "    orbital=True,\n",
    "    V=\"lambda x, y, z: 0 * z / 35\",\n",
    "    mu_sc=100,\n",
    "    **funcs.constants.__dict__\n",
    ")\n",
    "\n",
    "syst_pars = dict(\n",
    "    a=10,\n",
    "    angle=0,\n",
    "    coverage_angle=135,\n",
    "    r1=35,\n",
    "    r2=70,\n",
    "    shape=\"circle\",\n",
    "    with_shell=True,\n",
    "    A_correction=True,\n",
    "    rotate_spin_orbit=False,\n",
    ")\n",
    "\n",
    "\n",
    "def lowest_energy(x, syst_pars, params):\n",
    "    import funcs\n",
    "    import numpy as np\n",
    "\n",
    "    lead = funcs.make_lead(**syst_pars).finalized()\n",
    "    params[\"mu_lead\"], params[\"Delta\"] = x\n",
    "    # Combine the fixed parameters `params` and the changing\n",
    "    # parameters `val` to one dict and evaluate the string\n",
    "    # lambda functions.\n",
    "    params = common.parse_params(params)\n",
    "\n",
    "    # Create the Hamiltonian `ham` at k=0.\n",
    "    h0 = lead.cell_hamiltonian(params=params)\n",
    "    t0 = lead.inter_cell_hopping(params=params)\n",
    "    ham = h0 + t0 + t0.conj().T\n",
    "\n",
    "    # Find the energies.\n",
    "    ev = np.linalg.eigvalsh(ham)\n",
    "\n",
    "    # Return a combined dictionary with the results and input.\n",
    "    return np.abs(ev).min()\n",
    "\n",
    "\n",
    "def find_crossings(f, g):\n",
    "    return np.argwhere(np.diff(np.sign(f - g)) != 0).reshape(-1)\n",
    "\n",
    "\n",
    "def get_Delta(learner, Delta_ind):\n",
    "    plot = learner.plot(n=1000).Image.I.redim(x=\"mu\", y=\"Delta\", z=\"E_gap\")\n",
    "    line = plot.reduce([\"mu\"], np.min)\n",
    "    idx = find_crossings(line.data[\"E_gap\"], Delta_ind)[-1]\n",
    "    Delta = line.data[\"Delta\"][idx]\n",
    "    return Delta"
   ]
  },
  {
   "cell_type": "code",
   "execution_count": null,
   "metadata": {},
   "outputs": [],
   "source": [
    "learner = adaptive.Learner2D(\n",
    "    partial(lowest_energy, syst_pars=syst_pars, params=params),\n",
    "    [(5, 20), (0, 200)],\n",
    "    loss,\n",
    ")\n",
    "\n",
    "runner = adaptive.Runner(learner, goal=lambda l: l.loss() < 0.001)"
   ]
  },
  {
   "cell_type": "code",
   "execution_count": null,
   "metadata": {},
   "outputs": [],
   "source": [
    "runner.task.print_stack()"
   ]
  },
  {
   "cell_type": "code",
   "execution_count": null,
   "metadata": {},
   "outputs": [],
   "source": [
    "plot = learner.plot().Image.I.redim(x=\"mu\", y=\"Delta\", z=\"E_gap\")\n",
    "plot"
   ]
  },
  {
   "cell_type": "code",
   "execution_count": null,
   "metadata": {},
   "outputs": [],
   "source": [
    "%%opts Scatter (size=10, color='r')\n",
    "Delta_ind = 0.4\n",
    "\n",
    "line = plot.reduce([\"mu\"], np.min)\n",
    "line * hv.HLine(0.4) * hv.Scatter((get_Delta(learner, Delta_ind), Delta_ind))"
   ]
  },
  {
   "cell_type": "code",
   "execution_count": null,
   "metadata": {},
   "outputs": [],
   "source": [
    "Deltas = np.arange(*learner.bounds[1])\n",
    "hm = hv.HoloMap({Delta: plot.sample(Delta=Delta)[:, 0:1] for Delta in Deltas})\n",
    "hm * hv.HLine(0.4)"
   ]
  },
  {
   "cell_type": "markdown",
   "metadata": {},
   "source": [
    "#### Run it for different potentials"
   ]
  },
  {
   "cell_type": "code",
   "execution_count": null,
   "metadata": {},
   "outputs": [],
   "source": [
    "import itertools\n",
    "\n",
    "params = dict(\n",
    "    c_tunnel=3 / 4,\n",
    "    B_x=0,\n",
    "    B_y=0,\n",
    "    B_z=0,\n",
    "    g=50,\n",
    "    alpha=20,\n",
    "    orbital=True,\n",
    "    mu_sc=100,\n",
    "    **funcs.constants.__dict__,\n",
    ")\n",
    "\n",
    "syst_pars = dict(\n",
    "    a=10,\n",
    "    angle=None,\n",
    "    coverage_angle=135,\n",
    "    r1=35,\n",
    "    r2=70,\n",
    "    shape=\"circle\",\n",
    "    with_shell=True,\n",
    "    A_correction=True,\n",
    "    rotate_spin_orbit=False,\n",
    ")\n",
    "\n",
    "learners = []\n",
    "gradients = np.arange(-10, 8, 2)\n",
    "angles = [0, 45]\n",
    "\n",
    "vals = adaptive.utils.named_product(angle=angles, grad=gradients)\n",
    "\n",
    "for val in vals:\n",
    "    syst_pars[\"angle\"] = val[\"angle\"]\n",
    "    gradient = val[\"grad\"]\n",
    "    r1 = syst_pars[\"r1\"]\n",
    "    _theta_V = np.deg2rad(90)\n",
    "    coord = f\"np.sin({_theta_V}) * z + np.cos({_theta_V}) * y\"\n",
    "    params[\"V\"] = f\"lambda x, y, z: {gradient} * ({coord}) / {r1}\"\n",
    "\n",
    "    f = partial(lowest_energy, syst_pars=copy(syst_pars), params=copy(params))\n",
    "    learner = adaptive.Learner2D(f, [(5, 20), (0, 250)], loss)\n",
    "    learners.append(learner)\n",
    "\n",
    "learner = adaptive.BalancingLearner(learners)"
   ]
  },
  {
   "cell_type": "code",
   "execution_count": null,
   "metadata": {},
   "outputs": [],
   "source": [
    "runner = adaptive.Runner(learner, executor=client, goal=lambda l: l.loss() < 0.0001)"
   ]
  },
  {
   "cell_type": "code",
   "execution_count": null,
   "metadata": {},
   "outputs": [],
   "source": [
    "runner.task.print_stack(), learner.loss(), sum(\n",
    "    l.npoints for l in learner.learners\n",
    ") / len(learner.learners)"
   ]
  },
  {
   "cell_type": "code",
   "execution_count": null,
   "metadata": {},
   "outputs": [],
   "source": [
    "learner.plot(plotter=lambda l: l.plot().redim(x=\"mu\", y=\"Delta\", z=\"E_gap\"))"
   ]
  },
  {
   "cell_type": "code",
   "execution_count": null,
   "metadata": {},
   "outputs": [],
   "source": [
    "import collections\n",
    "\n",
    "Delta_ind = 0.4\n",
    "plots = {}\n",
    "gaps = collections.defaultdict(dict)\n",
    "for cdims, l in zip(vals, learner.learners):\n",
    "    plot = l.plot(n=1000).Image.I.redim(x=\"mu\", y=\"Delta\", z=\"E_gap\")\n",
    "    line = plot.reduce([\"mu\"], np.min)\n",
    "    try:\n",
    "        Delta = get_Delta(l, Delta_ind)\n",
    "    except IndexError:\n",
    "        Delta = np.nan\n",
    "    plots[tuple(cdims.values())] = line * hv.HLine(0.4) * hv.Scatter((Delta, Delta_ind))\n",
    "    gaps[cdims[\"grad\"]][cdims[\"angle\"]] = Delta"
   ]
  },
  {
   "cell_type": "code",
   "execution_count": null,
   "metadata": {},
   "outputs": [],
   "source": [
    "dict(gaps)  # Use these in the \"Sweep electric field gradient\" simulation below."
   ]
  },
  {
   "cell_type": "code",
   "execution_count": null,
   "metadata": {},
   "outputs": [],
   "source": [
    "%%opts Scatter (size=5 color='r')\n",
    "hv.HoloMap(plots, kdims=[\"angle\", \"gradient\"])"
   ]
  },
  {
   "cell_type": "code",
   "execution_count": null,
   "metadata": {},
   "outputs": [],
   "source": [
    "runner.cancel()"
   ]
  },
  {
   "cell_type": "markdown",
   "metadata": {},
   "source": [
    "# conductance $V_{bias}$ vs $B_x$"
   ]
  },
  {
   "cell_type": "code",
   "execution_count": null,
   "metadata": {},
   "outputs": [],
   "source": [
    "def conductance(x, val, syst_pars, params):\n",
    "    import funcs\n",
    "    import common\n",
    "\n",
    "    for k in [\"angle\"]:\n",
    "        try:\n",
    "            syst_pars[k] = val[k]\n",
    "        except KeyError:\n",
    "            pass\n",
    "\n",
    "    params = common.parse_params(dict(**params, **val))\n",
    "\n",
    "    params[\"mu_lead\"] = params[\"mu\"]\n",
    "    params[\"B_x\"], params[\"B_y\"], params[\"B_z\"] = (0, 0, 0)\n",
    "    val[\"V_bias\"], params[\"B_{}\".format(val[\"direction\"])] = x\n",
    "\n",
    "    syst = funcs.make_3d_wire(**syst_pars)\n",
    "    return funcs.conductance(syst, params, E=val[\"V_bias\"])"
   ]
  },
  {
   "cell_type": "markdown",
   "metadata": {},
   "source": [
    "### Sweep electric field gradient"
   ]
  },
  {
   "cell_type": "code",
   "execution_count": null,
   "metadata": {},
   "outputs": [],
   "source": [
    "gaps = {\n",
    "    -10: {0: 193.625, 45: 113.125},\n",
    "    -8: {0: 165.875, 45: 96.625},\n",
    "    -6: {0: 147.375, 45: 79.125},\n",
    "    -4: {0: 119.875, 45: 63.125},\n",
    "    -2: {0: 98.625, 45: 46.625},\n",
    "    0: {0: 78.125, 45: 32.125},\n",
    "    2: {0: 59.875, 45: 20.875},\n",
    "    4: {0: 39.375, 45: 13.125},\n",
    "}\n",
    "\n",
    "params = dict(\n",
    "    c_tunnel=3 / 4, V_barrier=40, mu_sc=100, mu=15, **funcs.constants.__dict__\n",
    ")\n",
    "\n",
    "syst_pars = dict(\n",
    "    a=10,\n",
    "    onsite_disorder=False,\n",
    "    L=2000,\n",
    "    coverage_angle=135,\n",
    "    r1=35,\n",
    "    r2=70,\n",
    "    shape=\"circle\",\n",
    "    with_leads=True,\n",
    "    with_shell=True,\n",
    "    A_correction=True,\n",
    ")\n",
    "\n",
    "vals = adaptive.utils.named_product(\n",
    "    g=[0, 50],\n",
    "    alpha=[0, 20],\n",
    "    orbital=[False, True],\n",
    "    direction=list(\"xyz\"),\n",
    "    gradient=list(gaps.keys()),\n",
    "    angle=[0, 45],\n",
    ")\n",
    "\n",
    "learners = []\n",
    "for val in vals:\n",
    "    params[\"V\"] = f'lambda x, y, z: {val[\"gradient\"]} * z / {syst_pars[\"r1\"]}'\n",
    "    params[\"Delta\"] = gaps[val[\"gradient\"]][val[\"angle\"]]\n",
    "    f = partial(conductance, val=val, params=copy(params), syst_pars=copy(syst_pars))\n",
    "    learner = adaptive.Learner2D(f, [(-1, 1), (0, 2)], loss)\n",
    "    learners.append(learner)\n",
    "\n",
    "learner = adaptive.BalancingLearner(learners)\n",
    "folder = Path(\"data/gradient-sweep-angle-0-45\")\n",
    "fnames = [folder / f\"data_learner_{i:04d}.pickle\" for i in range(len(learners))]\n",
    "learner.load(fnames)"
   ]
  },
  {
   "cell_type": "markdown",
   "metadata": {},
   "source": [
    "### Change alpha"
   ]
  },
  {
   "cell_type": "code",
   "execution_count": null,
   "metadata": {},
   "outputs": [],
   "source": [
    "gaps = {\n",
    "    -10: {0: 193.625, 45: 113.125},\n",
    "    -8: {0: 165.875, 45: 96.625},\n",
    "    -6: {0: 147.375, 45: 79.125},\n",
    "    -4: {0: 119.875, 45: 63.125},\n",
    "    -2: {0: 98.625, 45: 46.625},\n",
    "    0: {0: 78.125, 45: 32.125},\n",
    "    2: {0: 59.875, 45: 20.875},\n",
    "    4: {0: 39.375, 45: 13.125},\n",
    "}\n",
    "\n",
    "params = dict(c_tunnel=3 / 4, V_barrier=40, mu_sc=100, **funcs.constants.__dict__)\n",
    "\n",
    "syst_pars = dict(\n",
    "    a=10,\n",
    "    onsite_disorder=False,\n",
    "    L=2000,\n",
    "    coverage_angle=135,\n",
    "    r1=35,\n",
    "    r2=70,\n",
    "    shape=\"circle\",\n",
    "    with_leads=True,\n",
    "    with_shell=True,\n",
    "    A_correction=True,\n",
    ")\n",
    "\n",
    "vals = adaptive.utils.named_product(\n",
    "    g=[0, 50],\n",
    "    alpha=[0, 20, 50, 100, 250],\n",
    "    orbital=[False, True],\n",
    "    direction=list(\"xy\"),\n",
    "    gradient=list(gaps.keys()),\n",
    "    mu=[10, 12, 15],\n",
    "    angle=[0],\n",
    ")\n",
    "\n",
    "learners = []\n",
    "for val in vals:\n",
    "    params[\"V\"] = f'lambda x, y, z: {val[\"gradient\"]} * z / {syst_pars[\"r1\"]}'\n",
    "    params[\"Delta\"] = gaps[val[\"gradient\"]][val[\"angle\"]]\n",
    "    f = partial(conductance, val=val, params=copy(params), syst_pars=copy(syst_pars))\n",
    "    learner = adaptive.Learner2D(f, [(-1, 1), (0, 2)], loss)\n",
    "    learners.append(learner)\n",
    "\n",
    "learner = adaptive.BalancingLearner(learners)\n",
    "folder = Path(\"data/gradient-sweep-alpha2\")\n",
    "fnames = [folder / f\"data_learner_{i:04d}.pickle\" for i in range(len(learners))]\n",
    "learner.load(fnames)"
   ]
  },
  {
   "cell_type": "markdown",
   "metadata": {},
   "source": [
    "### Sweep chemical potential"
   ]
  },
  {
   "cell_type": "code",
   "execution_count": null,
   "metadata": {},
   "outputs": [],
   "source": [
    "syst_pars = dict(\n",
    "    a=10,\n",
    "    angle=0,\n",
    "    onsite_disorder=False,\n",
    "    L=2000,\n",
    "    coverage_angle=135,\n",
    "    r1=35,\n",
    "    r2=70,\n",
    "    shape=\"circle\",\n",
    "    with_leads=True,\n",
    "    with_shell=True,\n",
    "    A_correction=True,\n",
    ")\n",
    "\n",
    "params = dict(\n",
    "    Delta=78.125,\n",
    "    c_tunnel=3 / 4,\n",
    "    V=\"lambda x, y, z: 0\",\n",
    "    mu_sc=100,\n",
    "    V_barrier=40,\n",
    "    **funcs.constants.__dict__\n",
    ")\n",
    "\n",
    "vals = adaptive.utils.named_product(\n",
    "    g=[0, 50],\n",
    "    alpha=[0, 20],\n",
    "    orbital=[False, True],\n",
    "    direction=list(\"xyz\"),\n",
    "    mu=list(range(10, 21)),\n",
    ")\n",
    "\n",
    "learners = []\n",
    "for val in vals:\n",
    "    f = partial(conductance, val=val, params=params, syst_pars=syst_pars)\n",
    "    learner = adaptive.Learner2D(f, [(-1, 1), (0, 2)], loss)\n",
    "    learners.append(learner)\n",
    "\n",
    "\n",
    "learner = adaptive.BalancingLearner(learners, cdims=vals)\n",
    "folder = Path(\"data/mu-sweep2\")\n",
    "fnames = [folder / f\"data_learner_{i:04d}.pickle\" for i in range(len(learners))]\n",
    "learner.load(fnames)"
   ]
  },
  {
   "cell_type": "markdown",
   "metadata": {},
   "source": [
    "### Rotation"
   ]
  },
  {
   "cell_type": "code",
   "execution_count": null,
   "metadata": {},
   "outputs": [],
   "source": [
    "def conductance_rotation(x, val, syst_pars, params):\n",
    "    import funcs, common\n",
    "\n",
    "    for k in [\"angle\"]:\n",
    "        syst_pars[k] = val[k]\n",
    "\n",
    "    params[\"mu_lead\"] = params[\"mu\"]\n",
    "    val[\"V_bias\"], theta = x\n",
    "    val[\"B_x\"], val[\"B_y\"], val[\"B_z\"] = common.spherical_coords(params[\"B\"], theta, 90)\n",
    "\n",
    "    params = common.parse_params(dict(**params, **val))\n",
    "\n",
    "    syst = funcs.make_3d_wire(**syst_pars)\n",
    "    return funcs.conductance(syst, params, E=val[\"V_bias\"])\n",
    "\n",
    "\n",
    "gaps = {\n",
    "    -10: {0: 193.625, 45: 113.125},\n",
    "    -8: {0: 165.875, 45: 96.625},\n",
    "    -6: {0: 147.375, 45: 79.125},\n",
    "    -4: {0: 119.875, 45: 63.125},\n",
    "    -2: {0: 98.625, 45: 46.625},\n",
    "    0: {0: 78.125, 45: 32.125},\n",
    "    2: {0: 59.875, 45: 20.875},\n",
    "    4: {0: 39.375, 45: 13.125},\n",
    "}\n",
    "\n",
    "params = dict(\n",
    "    c_tunnel=3 / 4,\n",
    "    V_barrier=40,\n",
    "    mu_sc=100,\n",
    "    mu=15,\n",
    "    B=0.25,\n",
    "    sin=\"lambda x: np.sin(np.deg2rad(x))\",\n",
    "    cos=\"lambda x: np.cos(np.deg2rad(x))\",\n",
    "    **funcs.constants.__dict__,\n",
    ")\n",
    "\n",
    "syst_pars = dict(\n",
    "    a=10,\n",
    "    onsite_disorder=False,\n",
    "    L=2000,\n",
    "    coverage_angle=135,\n",
    "    r1=35,\n",
    "    r2=70,\n",
    "    shape=\"circle\",\n",
    "    with_leads=True,\n",
    "    with_shell=True,\n",
    "    A_correction=True,\n",
    "    rotate_spin_orbit=True,\n",
    ")\n",
    "\n",
    "vals = adaptive.utils.named_product(\n",
    "    g=[0, 50],\n",
    "    alpha=[0, 20],\n",
    "    orbital=[True, False],\n",
    "    gradient=list(gaps.keys()),\n",
    "    angle=[0, 45],\n",
    "    theta_SO=np.linspace(0, 90, 7),\n",
    "    theta_V=[90],\n",
    ")\n",
    "\n",
    "learners = []\n",
    "for val in vals:\n",
    "    gradient = val[\"gradient\"]\n",
    "    r = syst_pars[\"r1\"]\n",
    "    theta_V = np.deg2rad(val[\"theta_V\"])\n",
    "    coord = f\"np.sin({theta_V}) * z + np.cos({theta_V}) * y\"\n",
    "    params[\"V\"] = f\"lambda x, y, z: {gradient} * ({coord}) / {r}\"\n",
    "    params[\"Delta\"] = gaps[gradient][val[\"angle\"]]\n",
    "\n",
    "    f = partial(\n",
    "        conductance_rotation, val=val, params=copy(params), syst_pars=copy(syst_pars)\n",
    "    )\n",
    "    learner = adaptive.Learner2D(f, [(-1, 1), (-90, 135)], loss)\n",
    "    learners.append(learner)\n",
    "\n",
    "learner = adaptive.BalancingLearner(learners, cdims=vals)\n",
    "folder = Path(\"data/gradient-sweep-rotation-0-90-move-SO-slowly\")\n",
    "fnames = [folder / f\"data_learner_{i:04d}.pickle\" for i in range(len(learners))]\n",
    "learner.load(fnames)"
   ]
  },
  {
   "cell_type": "code",
   "execution_count": null,
   "metadata": {},
   "outputs": [],
   "source": [
    "%%output size=200\n",
    "lead_pars = dict(\n",
    "    a=10,\n",
    "    angle=45,\n",
    "    coverage_angle=135,\n",
    "    r1=35,\n",
    "    r2=70,\n",
    "    shape=\"circle\",\n",
    "    with_shell=True,\n",
    "    A_correction=True,\n",
    "    rotate_spin_orbit=True,\n",
    ")\n",
    "\n",
    "lead = funcs.make_lead(**lead_pars).finalized()\n",
    "\n",
    "params = dict(\n",
    "    c_tunnel=3 / 4,\n",
    "    mu_sc=100,\n",
    "    mu=15,\n",
    "    B=0.25,\n",
    "    sin=\"lambda x: np.sin(np.deg2rad(x))\",\n",
    "    cos=\"lambda x: np.cos(np.deg2rad(x))\",\n",
    "    **funcs.constants.__dict__,\n",
    "    g=50,\n",
    "    alpha=20,\n",
    "    orbital=True,\n",
    "    gradient=4,\n",
    "    theta_SO=45,\n",
    "    theta_V=45,\n",
    ")\n",
    "\n",
    "gradient = params[\"gradient\"]\n",
    "r = syst_pars[\"r1\"]\n",
    "theta_V = np.deg2rad(params[\"theta_V\"])\n",
    "coord = f\"np.sin({theta_V}) * z + np.cos({theta_V}) * y\"\n",
    "params[\"V\"] = f\"lambda x, y, z: {gradient} * ({coord}) / {r}\"\n",
    "params[\"Delta\"] = gaps[gradient][lead_pars[\"angle\"]]\n",
    "params[\"mu_lead\"] = params[\"mu_sc\"] = 15\n",
    "params = common.parse_params(params)\n",
    "\n",
    "plots = {}\n",
    "for theta in np.linspace(0, 90, 11):\n",
    "\n",
    "    params[\"B_x\"], params[\"B_y\"], params[\"B_z\"] = common.spherical_coords(\n",
    "        params[\"B\"], theta, 90\n",
    "    )\n",
    "\n",
    "    ks = np.linspace(-3, 3, 201)\n",
    "    Es = funcs.bands(lead, params, ks)\n",
    "    p1 = hv.Path((ks, Es))[:, -100:100]\n",
    "    plots[theta] = p1\n",
    "hv.HoloMap(plots)"
   ]
  },
  {
   "cell_type": "markdown",
   "metadata": {},
   "source": [
    "## Run only selected learners"
   ]
  },
  {
   "cell_type": "code",
   "execution_count": null,
   "metadata": {},
   "outputs": [],
   "source": [
    "all_learners, all_fnames = [], []"
   ]
  },
  {
   "cell_type": "code",
   "execution_count": null,
   "metadata": {},
   "outputs": [],
   "source": [
    "fnames_new, learners_new = zip(*[(f, l) for l, f in zip(learners, fnames) if l.data])\n",
    "all_learners += learners_new\n",
    "all_fnames += fnames_new"
   ]
  },
  {
   "cell_type": "code",
   "execution_count": null,
   "metadata": {},
   "outputs": [],
   "source": [
    "import hpc05\n",
    "client, dview, lview = hpc05.start_remote_and_connect(\n",
    "    120, profile=\"pbs\", folder=\"~/spin-orbit-nanowires/\", timeout=300\n",
    ")"
   ]
  },
  {
   "cell_type": "code",
   "execution_count": null,
   "metadata": {},
   "outputs": [],
   "source": [
    "new_learner = adaptive.BalancingLearner(all_learners, strategy=\"npoints\")\n",
    "runner = adaptive.Runner(new_learner, retries=10, executor=client)\n",
    "task = runner.start_periodic_saving(dict(fname=all_fnames), 120)\n",
    "runner.live_info()"
   ]
  },
  {
   "cell_type": "code",
   "execution_count": null,
   "metadata": {},
   "outputs": [],
   "source": [
    "new_learner.save(fnames_new)"
   ]
  },
  {
   "cell_type": "code",
   "execution_count": null,
   "metadata": {},
   "outputs": [],
   "source": [
    "runner.task.print_stack()"
   ]
  },
  {
   "cell_type": "code",
   "execution_count": null,
   "metadata": {},
   "outputs": [],
   "source": [
    "sorted([(l.npoints, f) for f, l in zip(all_fnames, new_learner.learners)])"
   ]
  },
  {
   "cell_type": "code",
   "execution_count": null,
   "metadata": {},
   "outputs": [],
   "source": [
    "n, f, l = min([(l.npoints, f, l) for f, l in zip(all_fnames, new_learner.learners)], key=lambda x: x[0])\n",
    "n, f, l"
   ]
  },
  {
   "cell_type": "code",
   "execution_count": null,
   "metadata": {},
   "outputs": [],
   "source": [
    "%%output size=200\n",
    "l.plot(n=400, tri_alpha=0.2)"
   ]
  },
  {
   "cell_type": "markdown",
   "metadata": {},
   "source": [
    "## Run"
   ]
  },
  {
   "cell_type": "code",
   "execution_count": null,
   "metadata": {},
   "outputs": [],
   "source": [
    "runner = adaptive.Runner(learner, executor=client, shutdown_executor=False, log=False)\n",
    "learner.start_periodic_saver(runner, folder, \"data_learner_{}.pickle\", interval=300)"
   ]
  },
  {
   "cell_type": "code",
   "execution_count": null,
   "metadata": {},
   "outputs": [],
   "source": [
    "learner.save(folder, \"data_learner_{}.pickle\")"
   ]
  },
  {
   "cell_type": "code",
   "execution_count": null,
   "metadata": {},
   "outputs": [],
   "source": [
    "# runner.task.cancel()\n",
    "# backup.cancel()\n",
    "runner.task.print_stack()"
   ]
  },
  {
   "cell_type": "code",
   "execution_count": null,
   "metadata": {},
   "outputs": [],
   "source": [
    "sum(l.npoints for l in learners) / len(learners)"
   ]
  },
  {
   "cell_type": "code",
   "execution_count": null,
   "metadata": {},
   "outputs": [],
   "source": [
    "idx = np.argmin([l.n for l in learner.learners])\n",
    "learner._points[idx][-1][0] = np.inf\n",
    "idx, learners[idx].n"
   ]
  },
  {
   "cell_type": "code",
   "execution_count": null,
   "metadata": {},
   "outputs": [],
   "source": [
    "%%output size=150\n",
    "learner.learners[idx].plot(tri_alpha=0)"
   ]
  },
  {
   "cell_type": "code",
   "execution_count": null,
   "metadata": {},
   "outputs": [],
   "source": [
    "%%opts Image {+framewise} [colorbar=True]\n",
    "%%output size=200\n",
    "\n",
    "learner.plot(cdims=vals)"
   ]
  }
 ],
 "metadata": {
  "language_info": {
   "name": "python",
   "pygments_lexer": "ipython3"
  }
 },
 "nbformat": 4,
 "nbformat_minor": 1
}
